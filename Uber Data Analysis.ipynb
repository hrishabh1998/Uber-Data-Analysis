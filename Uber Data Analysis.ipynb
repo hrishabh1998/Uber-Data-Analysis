{
 "cells": [
  {
   "cell_type": "code",
   "execution_count": 37,
   "metadata": {},
   "outputs": [
    {
     "name": "stdout",
     "output_type": "stream",
     "text": [
      "Populating the interactive namespace from numpy and matplotlib\n"
     ]
    }
   ],
   "source": [
    "import pandas as pd\n",
    "import seaborn as sb\n",
    "%pylab inline"
   ]
  },
  {
   "cell_type": "markdown",
   "metadata": {},
   "source": [
    "# Import csv file to memory"
   ]
  },
  {
   "cell_type": "code",
   "execution_count": 4,
   "metadata": {},
   "outputs": [],
   "source": [
    "data=pd.read_csv('uber-raw-data-apr14 .csv')"
   ]
  },
  {
   "cell_type": "code",
   "execution_count": 5,
   "metadata": {},
   "outputs": [
    {
     "data": {
      "text/plain": [
       "(564516, 4)"
      ]
     },
     "execution_count": 5,
     "metadata": {},
     "output_type": "execute_result"
    }
   ],
   "source": [
    "data.shape"
   ]
  },
  {
   "cell_type": "code",
   "execution_count": 6,
   "metadata": {},
   "outputs": [
    {
     "data": {
      "text/html": [
       "<div>\n",
       "<style scoped>\n",
       "    .dataframe tbody tr th:only-of-type {\n",
       "        vertical-align: middle;\n",
       "    }\n",
       "\n",
       "    .dataframe tbody tr th {\n",
       "        vertical-align: top;\n",
       "    }\n",
       "\n",
       "    .dataframe thead th {\n",
       "        text-align: right;\n",
       "    }\n",
       "</style>\n",
       "<table border=\"1\" class=\"dataframe\">\n",
       "  <thead>\n",
       "    <tr style=\"text-align: right;\">\n",
       "      <th></th>\n",
       "      <th>Date/Time</th>\n",
       "      <th>Lat</th>\n",
       "      <th>Lon</th>\n",
       "      <th>Base</th>\n",
       "    </tr>\n",
       "  </thead>\n",
       "  <tbody>\n",
       "    <tr>\n",
       "      <th>0</th>\n",
       "      <td>4/1/2014 0:11:00</td>\n",
       "      <td>40.7690</td>\n",
       "      <td>-73.9549</td>\n",
       "      <td>B02512</td>\n",
       "    </tr>\n",
       "    <tr>\n",
       "      <th>1</th>\n",
       "      <td>4/1/2014 0:17:00</td>\n",
       "      <td>40.7267</td>\n",
       "      <td>-74.0345</td>\n",
       "      <td>B02512</td>\n",
       "    </tr>\n",
       "    <tr>\n",
       "      <th>2</th>\n",
       "      <td>4/1/2014 0:21:00</td>\n",
       "      <td>40.7316</td>\n",
       "      <td>-73.9873</td>\n",
       "      <td>B02512</td>\n",
       "    </tr>\n",
       "    <tr>\n",
       "      <th>3</th>\n",
       "      <td>4/1/2014 0:28:00</td>\n",
       "      <td>40.7588</td>\n",
       "      <td>-73.9776</td>\n",
       "      <td>B02512</td>\n",
       "    </tr>\n",
       "    <tr>\n",
       "      <th>4</th>\n",
       "      <td>4/1/2014 0:33:00</td>\n",
       "      <td>40.7594</td>\n",
       "      <td>-73.9722</td>\n",
       "      <td>B02512</td>\n",
       "    </tr>\n",
       "  </tbody>\n",
       "</table>\n",
       "</div>"
      ],
      "text/plain": [
       "          Date/Time      Lat      Lon    Base\n",
       "0  4/1/2014 0:11:00  40.7690 -73.9549  B02512\n",
       "1  4/1/2014 0:17:00  40.7267 -74.0345  B02512\n",
       "2  4/1/2014 0:21:00  40.7316 -73.9873  B02512\n",
       "3  4/1/2014 0:28:00  40.7588 -73.9776  B02512\n",
       "4  4/1/2014 0:33:00  40.7594 -73.9722  B02512"
      ]
     },
     "execution_count": 6,
     "metadata": {},
     "output_type": "execute_result"
    }
   ],
   "source": [
    "data.head()"
   ]
  },
  {
   "cell_type": "code",
   "execution_count": 7,
   "metadata": {},
   "outputs": [
    {
     "data": {
      "text/html": [
       "<div>\n",
       "<style scoped>\n",
       "    .dataframe tbody tr th:only-of-type {\n",
       "        vertical-align: middle;\n",
       "    }\n",
       "\n",
       "    .dataframe tbody tr th {\n",
       "        vertical-align: top;\n",
       "    }\n",
       "\n",
       "    .dataframe thead th {\n",
       "        text-align: right;\n",
       "    }\n",
       "</style>\n",
       "<table border=\"1\" class=\"dataframe\">\n",
       "  <thead>\n",
       "    <tr style=\"text-align: right;\">\n",
       "      <th></th>\n",
       "      <th>Date/Time</th>\n",
       "      <th>Lat</th>\n",
       "      <th>Lon</th>\n",
       "      <th>Base</th>\n",
       "    </tr>\n",
       "  </thead>\n",
       "  <tbody>\n",
       "    <tr>\n",
       "      <th>564511</th>\n",
       "      <td>4/30/2014 23:22:00</td>\n",
       "      <td>40.7640</td>\n",
       "      <td>-73.9744</td>\n",
       "      <td>B02764</td>\n",
       "    </tr>\n",
       "    <tr>\n",
       "      <th>564512</th>\n",
       "      <td>4/30/2014 23:26:00</td>\n",
       "      <td>40.7629</td>\n",
       "      <td>-73.9672</td>\n",
       "      <td>B02764</td>\n",
       "    </tr>\n",
       "    <tr>\n",
       "      <th>564513</th>\n",
       "      <td>4/30/2014 23:31:00</td>\n",
       "      <td>40.7443</td>\n",
       "      <td>-73.9889</td>\n",
       "      <td>B02764</td>\n",
       "    </tr>\n",
       "    <tr>\n",
       "      <th>564514</th>\n",
       "      <td>4/30/2014 23:32:00</td>\n",
       "      <td>40.6756</td>\n",
       "      <td>-73.9405</td>\n",
       "      <td>B02764</td>\n",
       "    </tr>\n",
       "    <tr>\n",
       "      <th>564515</th>\n",
       "      <td>4/30/2014 23:48:00</td>\n",
       "      <td>40.6880</td>\n",
       "      <td>-73.9608</td>\n",
       "      <td>B02764</td>\n",
       "    </tr>\n",
       "  </tbody>\n",
       "</table>\n",
       "</div>"
      ],
      "text/plain": [
       "                 Date/Time      Lat      Lon    Base\n",
       "564511  4/30/2014 23:22:00  40.7640 -73.9744  B02764\n",
       "564512  4/30/2014 23:26:00  40.7629 -73.9672  B02764\n",
       "564513  4/30/2014 23:31:00  40.7443 -73.9889  B02764\n",
       "564514  4/30/2014 23:32:00  40.6756 -73.9405  B02764\n",
       "564515  4/30/2014 23:48:00  40.6880 -73.9608  B02764"
      ]
     },
     "execution_count": 7,
     "metadata": {},
     "output_type": "execute_result"
    }
   ],
   "source": [
    "data.tail()"
   ]
  },
  {
   "cell_type": "markdown",
   "metadata": {},
   "source": [
    "# change date time column to timestamp"
   ]
  },
  {
   "cell_type": "code",
   "execution_count": 10,
   "metadata": {},
   "outputs": [],
   "source": [
    "date = data['Date/Time'].map(pd.to_datetime)\n",
    "data['Date/Time']= date"
   ]
  },
  {
   "cell_type": "code",
   "execution_count": 22,
   "metadata": {},
   "outputs": [
    {
     "data": {
      "text/html": [
       "<div>\n",
       "<style scoped>\n",
       "    .dataframe tbody tr th:only-of-type {\n",
       "        vertical-align: middle;\n",
       "    }\n",
       "\n",
       "    .dataframe tbody tr th {\n",
       "        vertical-align: top;\n",
       "    }\n",
       "\n",
       "    .dataframe thead th {\n",
       "        text-align: right;\n",
       "    }\n",
       "</style>\n",
       "<table border=\"1\" class=\"dataframe\">\n",
       "  <thead>\n",
       "    <tr style=\"text-align: right;\">\n",
       "      <th></th>\n",
       "      <th>Date/Time</th>\n",
       "      <th>Lat</th>\n",
       "      <th>Lon</th>\n",
       "      <th>Base</th>\n",
       "      <th>Day</th>\n",
       "      <th>Hour</th>\n",
       "      <th>Month</th>\n",
       "      <th>Date</th>\n",
       "    </tr>\n",
       "  </thead>\n",
       "  <tbody>\n",
       "    <tr>\n",
       "      <th>0</th>\n",
       "      <td>2014-04-01 00:11:00</td>\n",
       "      <td>40.7690</td>\n",
       "      <td>-73.9549</td>\n",
       "      <td>B02512</td>\n",
       "      <td>1</td>\n",
       "      <td>0</td>\n",
       "      <td>4</td>\n",
       "      <td>1</td>\n",
       "    </tr>\n",
       "    <tr>\n",
       "      <th>1</th>\n",
       "      <td>2014-04-01 00:17:00</td>\n",
       "      <td>40.7267</td>\n",
       "      <td>-74.0345</td>\n",
       "      <td>B02512</td>\n",
       "      <td>1</td>\n",
       "      <td>0</td>\n",
       "      <td>4</td>\n",
       "      <td>1</td>\n",
       "    </tr>\n",
       "    <tr>\n",
       "      <th>2</th>\n",
       "      <td>2014-04-01 00:21:00</td>\n",
       "      <td>40.7316</td>\n",
       "      <td>-73.9873</td>\n",
       "      <td>B02512</td>\n",
       "      <td>1</td>\n",
       "      <td>0</td>\n",
       "      <td>4</td>\n",
       "      <td>1</td>\n",
       "    </tr>\n",
       "    <tr>\n",
       "      <th>3</th>\n",
       "      <td>2014-04-01 00:28:00</td>\n",
       "      <td>40.7588</td>\n",
       "      <td>-73.9776</td>\n",
       "      <td>B02512</td>\n",
       "      <td>1</td>\n",
       "      <td>0</td>\n",
       "      <td>4</td>\n",
       "      <td>1</td>\n",
       "    </tr>\n",
       "    <tr>\n",
       "      <th>4</th>\n",
       "      <td>2014-04-01 00:33:00</td>\n",
       "      <td>40.7594</td>\n",
       "      <td>-73.9722</td>\n",
       "      <td>B02512</td>\n",
       "      <td>1</td>\n",
       "      <td>0</td>\n",
       "      <td>4</td>\n",
       "      <td>1</td>\n",
       "    </tr>\n",
       "  </tbody>\n",
       "</table>\n",
       "</div>"
      ],
      "text/plain": [
       "            Date/Time      Lat      Lon    Base  Day  Hour  Month  Date\n",
       "0 2014-04-01 00:11:00  40.7690 -73.9549  B02512    1     0      4     1\n",
       "1 2014-04-01 00:17:00  40.7267 -74.0345  B02512    1     0      4     1\n",
       "2 2014-04-01 00:21:00  40.7316 -73.9873  B02512    1     0      4     1\n",
       "3 2014-04-01 00:28:00  40.7588 -73.9776  B02512    1     0      4     1\n",
       "4 2014-04-01 00:33:00  40.7594 -73.9722  B02512    1     0      4     1"
      ]
     },
     "execution_count": 22,
     "metadata": {},
     "output_type": "execute_result"
    }
   ],
   "source": [
    "def dom(date):\n",
    "    return date.day\n",
    "data['Date']=data['Date/Time'].map(dom)\n",
    "\n",
    "def month(date):\n",
    "    return date.month\n",
    "data['Month']=data['Date/Time'].map(month)\n",
    "\n",
    "\n",
    "def week(date):\n",
    "    return date.weekday()\n",
    "data['Day']=data['Date/Time'].map(week)\n",
    "\n",
    "def hour(date):\n",
    "    return date.hour\n",
    "data['Hour']=data['Date/Time'].map(hour)\n",
    "\n",
    "\n",
    "\n",
    "\n",
    "data.head()"
   ]
  },
  {
   "cell_type": "markdown",
   "metadata": {},
   "source": [
    "# Analysis"
   ]
  },
  {
   "cell_type": "markdown",
   "metadata": {},
   "source": [
    "For Date"
   ]
  },
  {
   "cell_type": "code",
   "execution_count": 38,
   "metadata": {},
   "outputs": [
    {
     "data": {
      "text/plain": [
       "Text(0.5, 1.0, 'Frequency by Month')"
      ]
     },
     "execution_count": 38,
     "metadata": {},
     "output_type": "execute_result"
    },
    {
     "data": {
      "image/png": "[encoded data removed]",
      "text/plain": [
       "<Figure size 432x288 with 1 Axes>"
      ]
     },
     "metadata": {
      "needs_background": "light"
     },
     "output_type": "display_data"
    }
   ],
   "source": [
    "hist(data.Date, bins=30,rwidth=.9,range=(0.5,30.5))\n",
    "xlabel(\"Date of Month\")\n",
    "ylabel('Frequency')\n",
    "title('Frequency by Month')"
   ]
  },
  {
   "cell_type": "code",
   "execution_count": 45,
   "metadata": {},
   "outputs": [
    {
     "data": {
      "text/plain": [
       "Date\n",
       "1     14546\n",
       "2     17474\n",
       "3     20701\n",
       "4     26714\n",
       "5     19521\n",
       "6     13445\n",
       "7     19550\n",
       "8     16188\n",
       "9     16843\n",
       "10    20041\n",
       "11    20420\n",
       "12    18170\n",
       "13    12112\n",
       "14    12674\n",
       "15    20641\n",
       "16    17717\n",
       "17    20973\n",
       "18    18074\n",
       "19    14602\n",
       "20    11017\n",
       "21    13162\n",
       "22    16975\n",
       "23    20346\n",
       "24    23352\n",
       "25    25095\n",
       "26    24925\n",
       "27    14677\n",
       "28    15475\n",
       "29    22835\n",
       "30    36251\n",
       "dtype: int64"
      ]
     },
     "execution_count": 45,
     "metadata": {},
     "output_type": "execute_result"
    }
   ],
   "source": [
    "def rows(row):\n",
    "    return len(row)\n",
    "by_date=data.groupby(\"Date\").apply(rows)\n",
    "by_date\n"
   ]
  },
  {
   "cell_type": "code",
   "execution_count": 46,
   "metadata": {},
   "outputs": [
    {
     "data": {
      "text/plain": [
       "[<matplotlib.lines.Line2D at 0x22d22ab5240>]"
      ]
     },
     "execution_count": 46,
     "metadata": {},
     "output_type": "execute_result"
    },
    {
     "data": {
      "image/png": "[encoded data removed]",
      "text/plain": [
       "<Figure size 432x288 with 1 Axes>"
      ]
     },
     "metadata": {
      "needs_background": "light"
     },
     "output_type": "display_data"
    }
   ],
   "source": [
    "plot(by_date)"
   ]
  },
  {
   "cell_type": "code",
   "execution_count": 48,
   "metadata": {},
   "outputs": [
    {
     "data": {
      "text/plain": [
       "Date\n",
       "20    11017\n",
       "13    12112\n",
       "14    12674\n",
       "21    13162\n",
       "6     13445\n",
       "1     14546\n",
       "19    14602\n",
       "27    14677\n",
       "28    15475\n",
       "8     16188\n",
       "9     16843\n",
       "22    16975\n",
       "2     17474\n",
       "16    17717\n",
       "18    18074\n",
       "12    18170\n",
       "5     19521\n",
       "7     19550\n",
       "10    20041\n",
       "23    20346\n",
       "11    20420\n",
       "15    20641\n",
       "3     20701\n",
       "17    20973\n",
       "29    22835\n",
       "24    23352\n",
       "26    24925\n",
       "25    25095\n",
       "4     26714\n",
       "30    36251\n",
       "dtype: int64"
      ]
     },
     "execution_count": 48,
     "metadata": {},
     "output_type": "execute_result"
    }
   ],
   "source": [
    "sort=by_date.sort_values()\n",
    "sort"
   ]
  },
  {
   "cell_type": "code",
   "execution_count": 63,
   "metadata": {},
   "outputs": [
    {
     "data": {
      "image/png": "[encoded data removed]",
      "text/plain": [
       "<Figure size 432x288 with 1 Axes>"
      ]
     },
     "metadata": {
      "needs_background": "light"
     },
     "output_type": "display_data"
    }
   ],
   "source": [
    "bar(range(1,31), sort,)\n",
    "xticks(range(1,31), sort.index)\n",
    "xlabel(\"Date of Month\")\n",
    "ylabel('Frequency')\n",
    "title('Frequency by Month');"
   ]
  },
  {
   "cell_type": "markdown",
   "metadata": {},
   "source": [
    "For Hour"
   ]
  },
  {
   "cell_type": "code",
   "execution_count": 79,
   "metadata": {},
   "outputs": [
    {
     "data": {
      "image/png": "[encoded data removed]",
      "text/plain": [
       "<Figure size 432x288 with 1 Axes>"
      ]
     },
     "metadata": {
      "needs_background": "light"
     },
     "output_type": "display_data"
    }
   ],
   "source": [
    "hist(data.Hour,range(1,25),rwidth=0.7)\n",
    "xlabel(\"Hour\")\n",
    "ylabel('Frequency')\n",
    "title('Frequency by Hour');"
   ]
  },
  {
   "cell_type": "markdown",
   "metadata": {},
   "source": [
    "For Weekday"
   ]
  },
  {
   "cell_type": "code",
   "execution_count": 88,
   "metadata": {},
   "outputs": [
    {
     "data": {
      "text/plain": [
       "([<matplotlib.axis.XTick at 0x22d2c6a2860>,\n",
       "  <matplotlib.axis.XTick at 0x22d2c6a20f0>,\n",
       "  <matplotlib.axis.XTick at 0x22d2c689f98>,\n",
       "  <matplotlib.axis.XTick at 0x22d2c6c9eb8>,\n",
       "  <matplotlib.axis.XTick at 0x22d2c6d2390>,\n",
       "  <matplotlib.axis.XTick at 0x22d2c6d2860>,\n",
       "  <matplotlib.axis.XTick at 0x22d2c6d2d30>],\n",
       " <a list of 7 Text xticklabel objects>)"
      ]
     },
     "execution_count": 88,
     "metadata": {},
     "output_type": "execute_result"
    },
    {
     "data": {
      "image/png": "[encoded data removed]",
      "text/plain": [
       "<Figure size 432x288 with 1 Axes>"
      ]
     },
     "metadata": {
      "needs_background": "light"
     },
     "output_type": "display_data"
    }
   ],
   "source": [
    "hist(data.Day, bins=7,range=(-0.5,6.5),rwidth=.8,color='green')\n",
    "xticks(range(7),\"Mon Tue Wed Thus Fri Sat Sun\".split())"
   ]
  },
  {
   "cell_type": "markdown",
   "metadata": {},
   "source": [
    "# Cross Analysis\n"
   ]
  },
  {
   "cell_type": "markdown",
   "metadata": {},
   "source": [
    "Hour and Day"
   ]
  },
  {
   "cell_type": "code",
   "execution_count": 93,
   "metadata": {},
   "outputs": [
    {
     "data": {
      "text/html": [
       "<div>\n",
       "<style scoped>\n",
       "    .dataframe tbody tr th:only-of-type {\n",
       "        vertical-align: middle;\n",
       "    }\n",
       "\n",
       "    .dataframe tbody tr th {\n",
       "        vertical-align: top;\n",
       "    }\n",
       "\n",
       "    .dataframe thead th {\n",
       "        text-align: right;\n",
       "    }\n",
       "</style>\n",
       "<table border=\"1\" class=\"dataframe\">\n",
       "  <thead>\n",
       "    <tr style=\"text-align: right;\">\n",
       "      <th>Hour</th>\n",
       "      <th>0</th>\n",
       "      <th>1</th>\n",
       "      <th>2</th>\n",
       "      <th>3</th>\n",
       "      <th>4</th>\n",
       "      <th>5</th>\n",
       "      <th>6</th>\n",
       "      <th>7</th>\n",
       "      <th>8</th>\n",
       "      <th>9</th>\n",
       "      <th>...</th>\n",
       "      <th>14</th>\n",
       "      <th>15</th>\n",
       "      <th>16</th>\n",
       "      <th>17</th>\n",
       "      <th>18</th>\n",
       "      <th>19</th>\n",
       "      <th>20</th>\n",
       "      <th>21</th>\n",
       "      <th>22</th>\n",
       "      <th>23</th>\n",
       "    </tr>\n",
       "    <tr>\n",
       "      <th>Day</th>\n",
       "      <th></th>\n",
       "      <th></th>\n",
       "      <th></th>\n",
       "      <th></th>\n",
       "      <th></th>\n",
       "      <th></th>\n",
       "      <th></th>\n",
       "      <th></th>\n",
       "      <th></th>\n",
       "      <th></th>\n",
       "      <th></th>\n",
       "      <th></th>\n",
       "      <th></th>\n",
       "      <th></th>\n",
       "      <th></th>\n",
       "      <th></th>\n",
       "      <th></th>\n",
       "      <th></th>\n",
       "      <th></th>\n",
       "      <th></th>\n",
       "      <th></th>\n",
       "    </tr>\n",
       "  </thead>\n",
       "  <tbody>\n",
       "    <tr>\n",
       "      <th>0</th>\n",
       "      <td>518</td>\n",
       "      <td>261</td>\n",
       "      <td>238</td>\n",
       "      <td>571</td>\n",
       "      <td>1021</td>\n",
       "      <td>1619</td>\n",
       "      <td>2974</td>\n",
       "      <td>3888</td>\n",
       "      <td>3138</td>\n",
       "      <td>2211</td>\n",
       "      <td>...</td>\n",
       "      <td>3117</td>\n",
       "      <td>3818</td>\n",
       "      <td>4962</td>\n",
       "      <td>5574</td>\n",
       "      <td>4725</td>\n",
       "      <td>4386</td>\n",
       "      <td>3573</td>\n",
       "      <td>3079</td>\n",
       "      <td>1976</td>\n",
       "      <td>1091</td>\n",
       "    </tr>\n",
       "    <tr>\n",
       "      <th>1</th>\n",
       "      <td>765</td>\n",
       "      <td>367</td>\n",
       "      <td>304</td>\n",
       "      <td>516</td>\n",
       "      <td>887</td>\n",
       "      <td>1734</td>\n",
       "      <td>3766</td>\n",
       "      <td>5304</td>\n",
       "      <td>4594</td>\n",
       "      <td>2962</td>\n",
       "      <td>...</td>\n",
       "      <td>4489</td>\n",
       "      <td>6042</td>\n",
       "      <td>7521</td>\n",
       "      <td>8297</td>\n",
       "      <td>7089</td>\n",
       "      <td>6459</td>\n",
       "      <td>6310</td>\n",
       "      <td>5993</td>\n",
       "      <td>3614</td>\n",
       "      <td>1948</td>\n",
       "    </tr>\n",
       "    <tr>\n",
       "      <th>2</th>\n",
       "      <td>899</td>\n",
       "      <td>507</td>\n",
       "      <td>371</td>\n",
       "      <td>585</td>\n",
       "      <td>1003</td>\n",
       "      <td>1990</td>\n",
       "      <td>4230</td>\n",
       "      <td>5647</td>\n",
       "      <td>5242</td>\n",
       "      <td>3846</td>\n",
       "      <td>...</td>\n",
       "      <td>5438</td>\n",
       "      <td>7071</td>\n",
       "      <td>8213</td>\n",
       "      <td>9151</td>\n",
       "      <td>8334</td>\n",
       "      <td>7794</td>\n",
       "      <td>7783</td>\n",
       "      <td>6921</td>\n",
       "      <td>4845</td>\n",
       "      <td>2571</td>\n",
       "    </tr>\n",
       "    <tr>\n",
       "      <th>3</th>\n",
       "      <td>792</td>\n",
       "      <td>459</td>\n",
       "      <td>342</td>\n",
       "      <td>567</td>\n",
       "      <td>861</td>\n",
       "      <td>1454</td>\n",
       "      <td>3179</td>\n",
       "      <td>4159</td>\n",
       "      <td>3616</td>\n",
       "      <td>2654</td>\n",
       "      <td>...</td>\n",
       "      <td>4083</td>\n",
       "      <td>5182</td>\n",
       "      <td>6149</td>\n",
       "      <td>6951</td>\n",
       "      <td>6637</td>\n",
       "      <td>5929</td>\n",
       "      <td>6345</td>\n",
       "      <td>6585</td>\n",
       "      <td>5370</td>\n",
       "      <td>2909</td>\n",
       "    </tr>\n",
       "    <tr>\n",
       "      <th>4</th>\n",
       "      <td>1367</td>\n",
       "      <td>760</td>\n",
       "      <td>513</td>\n",
       "      <td>736</td>\n",
       "      <td>932</td>\n",
       "      <td>1382</td>\n",
       "      <td>2836</td>\n",
       "      <td>3943</td>\n",
       "      <td>3648</td>\n",
       "      <td>2732</td>\n",
       "      <td>...</td>\n",
       "      <td>4087</td>\n",
       "      <td>5354</td>\n",
       "      <td>6259</td>\n",
       "      <td>6790</td>\n",
       "      <td>7258</td>\n",
       "      <td>6247</td>\n",
       "      <td>5165</td>\n",
       "      <td>6265</td>\n",
       "      <td>6708</td>\n",
       "      <td>5393</td>\n",
       "    </tr>\n",
       "    <tr>\n",
       "      <th>5</th>\n",
       "      <td>3027</td>\n",
       "      <td>2479</td>\n",
       "      <td>1577</td>\n",
       "      <td>1013</td>\n",
       "      <td>706</td>\n",
       "      <td>704</td>\n",
       "      <td>844</td>\n",
       "      <td>1110</td>\n",
       "      <td>1372</td>\n",
       "      <td>1764</td>\n",
       "      <td>...</td>\n",
       "      <td>3042</td>\n",
       "      <td>4457</td>\n",
       "      <td>5410</td>\n",
       "      <td>5558</td>\n",
       "      <td>6165</td>\n",
       "      <td>5529</td>\n",
       "      <td>4792</td>\n",
       "      <td>5811</td>\n",
       "      <td>6493</td>\n",
       "      <td>5719</td>\n",
       "    </tr>\n",
       "    <tr>\n",
       "      <th>6</th>\n",
       "      <td>4542</td>\n",
       "      <td>2936</td>\n",
       "      <td>1590</td>\n",
       "      <td>1052</td>\n",
       "      <td>685</td>\n",
       "      <td>593</td>\n",
       "      <td>669</td>\n",
       "      <td>873</td>\n",
       "      <td>1233</td>\n",
       "      <td>1770</td>\n",
       "      <td>...</td>\n",
       "      <td>2934</td>\n",
       "      <td>3400</td>\n",
       "      <td>3489</td>\n",
       "      <td>3154</td>\n",
       "      <td>2795</td>\n",
       "      <td>2579</td>\n",
       "      <td>2276</td>\n",
       "      <td>2310</td>\n",
       "      <td>1639</td>\n",
       "      <td>1018</td>\n",
       "    </tr>\n",
       "  </tbody>\n",
       "</table>\n",
       "<p>7 rows × 24 columns</p>\n",
       "</div>"
      ],
      "text/plain": [
       "Hour    0     1     2     3     4     5     6     7     8     9   ...    14  \\\n",
       "Day                                                               ...         \n",
       "0      518   261   238   571  1021  1619  2974  3888  3138  2211  ...  3117   \n",
       "1      765   367   304   516   887  1734  3766  5304  4594  2962  ...  4489   \n",
       "2      899   507   371   585  1003  1990  4230  5647  5242  3846  ...  5438   \n",
       "3      792   459   342   567   861  1454  3179  4159  3616  2654  ...  4083   \n",
       "4     1367   760   513   736   932  1382  2836  3943  3648  2732  ...  4087   \n",
       "5     3027  2479  1577  1013   706   704   844  1110  1372  1764  ...  3042   \n",
       "6     4542  2936  1590  1052   685   593   669   873  1233  1770  ...  2934   \n",
       "\n",
       "Hour    15    16    17    18    19    20    21    22    23  \n",
       "Day                                                         \n",
       "0     3818  4962  5574  4725  4386  3573  3079  1976  1091  \n",
       "1     6042  7521  8297  7089  6459  6310  5993  3614  1948  \n",
       "2     7071  8213  9151  8334  7794  7783  6921  4845  2571  \n",
       "3     5182  6149  6951  6637  5929  6345  6585  5370  2909  \n",
       "4     5354  6259  6790  7258  6247  5165  6265  6708  5393  \n",
       "5     4457  5410  5558  6165  5529  4792  5811  6493  5719  \n",
       "6     3400  3489  3154  2795  2579  2276  2310  1639  1018  \n",
       "\n",
       "[7 rows x 24 columns]"
      ]
     },
     "execution_count": 93,
     "metadata": {},
     "output_type": "execute_result"
    }
   ],
   "source": [
    "group= data.groupby('Day Hour'.split()).apply(rows).unstack()\n",
    "group"
   ]
  },
  {
   "cell_type": "code",
   "execution_count": 95,
   "metadata": {},
   "outputs": [
    {
     "data": {
      "text/plain": [
       "<matplotlib.axes._subplots.AxesSubplot at 0x22d2c73e7f0>"
      ]
     },
     "execution_count": 95,
     "metadata": {},
     "output_type": "execute_result"
    },
    {
     "data": {
      "image/png": "[encoded data removed]",
      "text/plain": [
       "<Figure size 432x288 with 2 Axes>"
      ]
     },
     "metadata": {
      "needs_background": "light"
     },
     "output_type": "display_data"
    }
   ],
   "source": [
    "sb.heatmap(group)"
   ]
  },
  {
   "cell_type": "markdown",
   "metadata": {},
   "source": [
    "Lattitude and Longitude\n"
   ]
  },
  {
   "cell_type": "code",
   "execution_count": 106,
   "metadata": {},
   "outputs": [
    {
     "data": {
      "image/png": "[encoded data removed]",
      "text/plain": [
       "<Figure size 432x288 with 1 Axes>"
      ]
     },
     "metadata": {
      "needs_background": "light"
     },
     "output_type": "display_data"
    }
   ],
   "source": [
    "hist(data['Lat'],bins=100,range=(40.5,41));"
   ]
  },
  {
   "cell_type": "code",
   "execution_count": 109,
   "metadata": {},
   "outputs": [
    {
     "data": {
      "image/png": "[encoded data removed]",
      "text/plain": [
       "<Figure size 432x288 with 1 Axes>"
      ]
     },
     "metadata": {
      "needs_background": "light"
     },
     "output_type": "display_data"
    }
   ],
   "source": [
    "hist(data['Lon'],bins=100,range=(-74.1,-73.9));"
   ]
  },
  {
   "cell_type": "code",
   "execution_count": 123,
   "metadata": {},
   "outputs": [
    {
     "data": {
      "text/plain": [
       "''"
      ]
     },
     "execution_count": 123,
     "metadata": {},
     "output_type": "execute_result"
    },
    {
     "data": {
      "image/png": "[encoded data removed]",
      "text/plain": [
       "<Figure size 432x288 with 2 Axes>"
      ]
     },
     "metadata": {
      "needs_background": "light"
     },
     "output_type": "display_data"
    }
   ],
   "source": [
    "hist(data['Lon'],bins=100,range=(-74.1,-73.9),color='r',alpha=.5,label='Longitude')\n",
    "legend(loc='upper left')\n",
    "twiny()\n",
    "hist(data['Lat'],bins=100,range=(40.5,41),color='g',alpha=.5,label='Lattitude')\n",
    "legend(loc='best')\n",
    ";"
   ]
  },
  {
   "cell_type": "code",
   "execution_count": 145,
   "metadata": {},
   "outputs": [
    {
     "data": {
      "text/plain": [
       "(50, 100)"
      ]
     },
     "execution_count": 145,
     "metadata": {},
     "output_type": "execute_result"
    },
    {
     "data": {
      "image/png": "[encoded data removed]",
      "text/plain": [
       "<Figure size 432x288 with 1 Axes>"
      ]
     },
     "metadata": {
      "needs_background": "light"
     },
     "output_type": "display_data"
    }
   ],
   "source": [
    "plot(data['Lat'],'-',ms=10)\n",
    "plt.xlim((50, 100)) "
   ]
  },
  {
   "cell_type": "code",
   "execution_count": null,
   "metadata": {},
   "outputs": [],
   "source": []
  }
 ],
 "metadata": {
  "kernelspec": {
   "display_name": "Python 3",
   "language": "python",
   "name": "python3"
  },
  "language_info": {
   "codemirror_mode": {
    "name": "ipython",
    "version": 3
   },
   "file_extension": ".py",
   "mimetype": "text/x-python",
   "name": "python",
   "nbconvert_exporter": "python",
   "pygments_lexer": "ipython3",
   "version": "3.7.3"
  }
 },
 "nbformat": 4,
 "nbformat_minor": 2
}
